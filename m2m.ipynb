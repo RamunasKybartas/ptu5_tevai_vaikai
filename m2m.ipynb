{
 "cells": [
  {
   "cell_type": "code",
   "execution_count": 2,
   "metadata": {},
   "outputs": [],
   "source": [
    "from sqlalchemy.orm import sessionmaker\n",
    "from model_m2m import engine, Tevas, Vaikas\n",
    "\n",
    "session = sessionmaker(engine)()"
   ]
  },
  {
   "cell_type": "code",
   "execution_count": 3,
   "metadata": {},
   "outputs": [],
   "source": [
    "tevas = Tevas(vardas=\"kestutis\", pavarde=\"januskevicius\")\n",
    "mama = Tevas(vardas=\"Nicoletta\", pavarde=\"januskeviciene\")\n",
    "emilija = Vaikas(vardas=\"Emilija\", pavarde=\"januskevicius\")\n",
    "maja = Vaikas(vardas=\"Maja\", pavarde=\"januskeviciute\")\n",
    "marco = Vaikas(vardas=\"Marco\", pavarde=\"januskevicius\")\n",
    "\n",
    "tevas.vaikai.append(emilija)\n",
    "mama.vaikai.append(emilija)\n",
    "tevas.vaikai.append(marco)\n",
    "\n",
    "session.add(tevas)\n",
    "session.add(mama)\n",
    "session.commit()"
   ]
  },
  {
   "cell_type": "code",
   "execution_count": 4,
   "metadata": {},
   "outputs": [
    {
     "data": {
      "text/plain": [
       "[(1, Kietas, Vyras),\n",
       " (2, Rimtesnis, Vaikis),\n",
       " (3, vardas, Vaikis),\n",
       " (4, kestutis, januskevicius),\n",
       " (5, Nicoletta, januskeviciene)]"
      ]
     },
     "execution_count": 4,
     "metadata": {},
     "output_type": "execute_result"
    }
   ],
   "source": [
    "tevai = session.query(Tevas).all()\n",
    "tevai"
   ]
  },
  {
   "cell_type": "code",
   "execution_count": 9,
   "metadata": {},
   "outputs": [
    {
     "data": {
      "text/plain": [
       "[(7, Emilija, januskevicius)]"
      ]
     },
     "execution_count": 9,
     "metadata": {},
     "output_type": "execute_result"
    }
   ],
   "source": [
    "vaikai = session.query(Vaikas).all()\n"
   ]
  },
  {
   "cell_type": "code",
   "execution_count": 11,
   "metadata": {},
   "outputs": [
    {
     "name": "stdout",
     "output_type": "stream",
     "text": [
      "(1, Kietas, Vyras)\n",
      "(2, Rimtesnis, Vaikis)\n",
      "(3, vardas, Vaikis)\n",
      "(4, kestutis, januskevicius)\n",
      "- (7, Emilija, januskevicius)\n",
      "- (8, Marco, januskevicius)\n",
      "(5, Nicoletta, januskeviciene)\n",
      "- (7, Emilija, januskevicius)\n"
     ]
    }
   ],
   "source": [
    "from pprint import pprint\n",
    "for tevas in tevai:\n",
    "    print(tevas)\n",
    "    for vaikas in tevas.vaikai:\n",
    "        print(\"-\", vaikas)\n",
    "    "
   ]
  }
 ],
 "metadata": {
  "kernelspec": {
   "display_name": "Python 3.10.6 ('venv': venv)",
   "language": "python",
   "name": "python3"
  },
  "language_info": {
   "codemirror_mode": {
    "name": "ipython",
    "version": 3
   },
   "file_extension": ".py",
   "mimetype": "text/x-python",
   "name": "python",
   "nbconvert_exporter": "python",
   "pygments_lexer": "ipython3",
   "version": "3.10.6"
  },
  "orig_nbformat": 4,
  "vscode": {
   "interpreter": {
    "hash": "bee7209fb52da6ee2b8c711567a41acc8680d2882ca881aed24c85728738e1b5"
   }
  }
 },
 "nbformat": 4,
 "nbformat_minor": 2
}
