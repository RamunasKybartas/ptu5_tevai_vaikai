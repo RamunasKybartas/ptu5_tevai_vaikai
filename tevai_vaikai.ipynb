{
 "cells": [
  {
   "cell_type": "code",
   "execution_count": 10,
   "metadata": {},
   "outputs": [],
   "source": [
    "from sqlalchemy.orm import sessionmaker\n",
    "from model_m2m import engine, Tevas, Vaikas\n",
    "\n",
    "session = sessionmaker(engine)()"
   ]
  },
  {
   "cell_type": "code",
   "execution_count": 11,
   "metadata": {},
   "outputs": [
    {
     "ename": "TypeError",
     "evalue": "'tevas' is an invalid keyword argument for Vaikas",
     "output_type": "error",
     "traceback": [
      "\u001b[1;31m---------------------------------------------------------------------------\u001b[0m",
      "\u001b[1;31mTypeError\u001b[0m                                 Traceback (most recent call last)",
      "Cell \u001b[1;32mIn [11], line 2\u001b[0m\n\u001b[0;32m      1\u001b[0m naujas_tevas \u001b[39m=\u001b[39m Tevas(vardas\u001b[39m=\u001b[39m\u001b[39m\"\u001b[39m\u001b[39mKietas\u001b[39m\u001b[39m\"\u001b[39m, pavarde\u001b[39m=\u001b[39m\u001b[39m\"\u001b[39m\u001b[39mVyras\u001b[39m\u001b[39m\"\u001b[39m)\n\u001b[1;32m----> 2\u001b[0m naujas_vaikas \u001b[39m=\u001b[39m Vaikas(\n\u001b[0;32m      3\u001b[0m     vardas\u001b[39m=\u001b[39;49m\u001b[39m\"\u001b[39;49m\u001b[39mSustras\u001b[39;49m\u001b[39m\"\u001b[39;49m,\n\u001b[0;32m      4\u001b[0m     pavarde\u001b[39m=\u001b[39;49m\u001b[39m\"\u001b[39;49m\u001b[39mVyras\u001b[39;49m\u001b[39m\"\u001b[39;49m,\n\u001b[0;32m      5\u001b[0m     tevas\u001b[39m=\u001b[39;49mnaujas_tevas,\n\u001b[0;32m      6\u001b[0m     mokymo_istaiga \u001b[39m=\u001b[39;49m \u001b[39m\"\u001b[39;49m\u001b[39mCodeAcademy\u001b[39;49m\u001b[39m\"\u001b[39;49m\n\u001b[0;32m      7\u001b[0m )\n\u001b[0;32m      8\u001b[0m session\u001b[39m.\u001b[39madd(naujas_tevas)\n\u001b[0;32m      9\u001b[0m session\u001b[39m.\u001b[39madd(naujas_vaikas)\n",
      "File \u001b[1;32m<string>:4\u001b[0m, in \u001b[0;36m__init__\u001b[1;34m(self, **kwargs)\u001b[0m\n",
      "File \u001b[1;32mc:\\codeacademy\\ptu5_tevai_vaikai\\venv\\lib\\site-packages\\sqlalchemy\\orm\\state.py:481\u001b[0m, in \u001b[0;36mInstanceState._initialize_instance\u001b[1;34m(*mixed, **kwargs)\u001b[0m\n\u001b[0;32m    479\u001b[0m     \u001b[39mreturn\u001b[39;00m manager\u001b[39m.\u001b[39moriginal_init(\u001b[39m*\u001b[39mmixed[\u001b[39m1\u001b[39m:], \u001b[39m*\u001b[39m\u001b[39m*\u001b[39mkwargs)\n\u001b[0;32m    480\u001b[0m \u001b[39mexcept\u001b[39;00m:\n\u001b[1;32m--> 481\u001b[0m     \u001b[39mwith\u001b[39;00m util\u001b[39m.\u001b[39msafe_reraise():\n\u001b[0;32m    482\u001b[0m         manager\u001b[39m.\u001b[39mdispatch\u001b[39m.\u001b[39minit_failure(\u001b[39mself\u001b[39m, args, kwargs)\n",
      "File \u001b[1;32mc:\\codeacademy\\ptu5_tevai_vaikai\\venv\\lib\\site-packages\\sqlalchemy\\util\\langhelpers.py:70\u001b[0m, in \u001b[0;36msafe_reraise.__exit__\u001b[1;34m(self, type_, value, traceback)\u001b[0m\n\u001b[0;32m     68\u001b[0m     \u001b[39mself\u001b[39m\u001b[39m.\u001b[39m_exc_info \u001b[39m=\u001b[39m \u001b[39mNone\u001b[39;00m  \u001b[39m# remove potential circular references\u001b[39;00m\n\u001b[0;32m     69\u001b[0m     \u001b[39mif\u001b[39;00m \u001b[39mnot\u001b[39;00m \u001b[39mself\u001b[39m\u001b[39m.\u001b[39mwarn_only:\n\u001b[1;32m---> 70\u001b[0m         compat\u001b[39m.\u001b[39;49mraise_(\n\u001b[0;32m     71\u001b[0m             exc_value,\n\u001b[0;32m     72\u001b[0m             with_traceback\u001b[39m=\u001b[39;49mexc_tb,\n\u001b[0;32m     73\u001b[0m         )\n\u001b[0;32m     74\u001b[0m \u001b[39melse\u001b[39;00m:\n\u001b[0;32m     75\u001b[0m     \u001b[39mif\u001b[39;00m \u001b[39mnot\u001b[39;00m compat\u001b[39m.\u001b[39mpy3k \u001b[39mand\u001b[39;00m \u001b[39mself\u001b[39m\u001b[39m.\u001b[39m_exc_info \u001b[39mand\u001b[39;00m \u001b[39mself\u001b[39m\u001b[39m.\u001b[39m_exc_info[\u001b[39m1\u001b[39m]:\n\u001b[0;32m     76\u001b[0m         \u001b[39m# emulate Py3K's behavior of telling us when an exception\u001b[39;00m\n\u001b[0;32m     77\u001b[0m         \u001b[39m# occurs in an exception handler.\u001b[39;00m\n",
      "File \u001b[1;32mc:\\codeacademy\\ptu5_tevai_vaikai\\venv\\lib\\site-packages\\sqlalchemy\\util\\compat.py:208\u001b[0m, in \u001b[0;36mraise_\u001b[1;34m(***failed resolving arguments***)\u001b[0m\n\u001b[0;32m    205\u001b[0m     exception\u001b[39m.\u001b[39m__cause__ \u001b[39m=\u001b[39m replace_context\n\u001b[0;32m    207\u001b[0m \u001b[39mtry\u001b[39;00m:\n\u001b[1;32m--> 208\u001b[0m     \u001b[39mraise\u001b[39;00m exception\n\u001b[0;32m    209\u001b[0m \u001b[39mfinally\u001b[39;00m:\n\u001b[0;32m    210\u001b[0m     \u001b[39m# credit to\u001b[39;00m\n\u001b[0;32m    211\u001b[0m     \u001b[39m# https://cosmicpercolator.com/2016/01/13/exception-leaks-in-python-2-and-3/\u001b[39;00m\n\u001b[0;32m    212\u001b[0m     \u001b[39m# as the __traceback__ object creates a cycle\u001b[39;00m\n\u001b[0;32m    213\u001b[0m     \u001b[39mdel\u001b[39;00m exception, replace_context, from_, with_traceback\n",
      "File \u001b[1;32mc:\\codeacademy\\ptu5_tevai_vaikai\\venv\\lib\\site-packages\\sqlalchemy\\orm\\state.py:479\u001b[0m, in \u001b[0;36mInstanceState._initialize_instance\u001b[1;34m(*mixed, **kwargs)\u001b[0m\n\u001b[0;32m    476\u001b[0m manager\u001b[39m.\u001b[39mdispatch\u001b[39m.\u001b[39minit(\u001b[39mself\u001b[39m, args, kwargs)\n\u001b[0;32m    478\u001b[0m \u001b[39mtry\u001b[39;00m:\n\u001b[1;32m--> 479\u001b[0m     \u001b[39mreturn\u001b[39;00m manager\u001b[39m.\u001b[39moriginal_init(\u001b[39m*\u001b[39mmixed[\u001b[39m1\u001b[39m:], \u001b[39m*\u001b[39m\u001b[39m*\u001b[39mkwargs)\n\u001b[0;32m    480\u001b[0m \u001b[39mexcept\u001b[39;00m:\n\u001b[0;32m    481\u001b[0m     \u001b[39mwith\u001b[39;00m util\u001b[39m.\u001b[39msafe_reraise():\n",
      "File \u001b[1;32mc:\\codeacademy\\ptu5_tevai_vaikai\\venv\\lib\\site-packages\\sqlalchemy\\orm\\decl_base.py:1197\u001b[0m, in \u001b[0;36m_declarative_constructor\u001b[1;34m(self, **kwargs)\u001b[0m\n\u001b[0;32m   1195\u001b[0m \u001b[39mfor\u001b[39;00m k \u001b[39min\u001b[39;00m kwargs:\n\u001b[0;32m   1196\u001b[0m     \u001b[39mif\u001b[39;00m \u001b[39mnot\u001b[39;00m \u001b[39mhasattr\u001b[39m(cls_, k):\n\u001b[1;32m-> 1197\u001b[0m         \u001b[39mraise\u001b[39;00m \u001b[39mTypeError\u001b[39;00m(\n\u001b[0;32m   1198\u001b[0m             \u001b[39m\"\u001b[39m\u001b[39m%r\u001b[39;00m\u001b[39m is an invalid keyword argument for \u001b[39m\u001b[39m%s\u001b[39;00m\u001b[39m\"\u001b[39m \u001b[39m%\u001b[39m (k, cls_\u001b[39m.\u001b[39m\u001b[39m__name__\u001b[39m)\n\u001b[0;32m   1199\u001b[0m         )\n\u001b[0;32m   1200\u001b[0m     \u001b[39msetattr\u001b[39m(\u001b[39mself\u001b[39m, k, kwargs[k])\n",
      "\u001b[1;31mTypeError\u001b[0m: 'tevas' is an invalid keyword argument for Vaikas"
     ]
    }
   ],
   "source": [
    "naujas_tevas = Tevas(vardas=\"Kietas\", pavarde=\"Vyras\")\n",
    "naujas_vaikas = Vaikas(\n",
    "    vardas=\"Sustras\",\n",
    "    pavarde=\"Vyras\",\n",
    "    tevas=naujas_tevas,\n",
    "    mokymo_istaiga = \"CodeAcademy\"\n",
    ")\n",
    "session.add(naujas_tevas)\n",
    "session.add(naujas_vaikas)\n",
    "session.commit()"
   ]
  },
  {
   "cell_type": "code",
   "execution_count": 5,
   "metadata": {},
   "outputs": [
    {
     "name": "stdout",
     "output_type": "stream",
     "text": [
      "[(1, Sustras, Vyras, CodeAcademy, (1, Kietas, Vyras)),\n",
      " (2, Gudrus, Vaikis, None, (2, vardas, Vaikis)),\n",
      " (3, Smagi, Vaikyte, None, (2, vardas, Vaikis)),\n",
      " (4, Gudrus, Vaikis, None, (3, vardas, Vaikis)),\n",
      " (5, Smagi, Vaikyte, None, (3, vardas, Vaikis)),\n",
      " (6, Smagi, Vaikyte, ziburio gimnazija, (1, Kietas, Vyras))]\n"
     ]
    }
   ],
   "source": [
    "from pprint import pprint\n",
    "vaikai = session.query(Vaikas).all()\n",
    "pprint(vaikai)"
   ]
  },
  {
   "cell_type": "code",
   "execution_count": null,
   "metadata": {},
   "outputs": [],
   "source": [
    "vaikai[1].tevas = session.query(Tevas).get(2)\n",
    "vaikai"
   ]
  },
  {
   "cell_type": "code",
   "execution_count": 13,
   "metadata": {},
   "outputs": [
    {
     "data": {
      "text/plain": [
       "[(1, Sustras, Vyras, CodeAcademy, (1, Kietas, Vyras))]"
      ]
     },
     "execution_count": 13,
     "metadata": {},
     "output_type": "execute_result"
    }
   ],
   "source": [
    "tevas = session.query(Tevas).get(1)\n",
    "tevas.vaikai"
   ]
  },
  {
   "cell_type": "code",
   "execution_count": 9,
   "metadata": {},
   "outputs": [],
   "source": [
    "sunelis = Vaikas(vardas=\"Gudrus\", pavarde=\"Vaikis\")\n",
    "dukrele = Vaikas(vardas=\"Smagi\", pavarde=\"Vaikyte\")\n",
    "tevas = Tevas(vardas=\"vardas\", pavarde=\"Vaikis\")\n",
    "tevas.vaikai.append(sunelis)\n",
    "tevas.vaikai.append(dukrele)\n",
    "session.add(tevas)\n",
    "session.commit()"
   ]
  },
  {
   "cell_type": "code",
   "execution_count": 14,
   "metadata": {},
   "outputs": [],
   "source": [
    "dukrele2 = Vaikas(vardas=\"Smagi\", pavarde=\"Vaikyte\", mokymo_istaiga=\"ziburio gimnazija\")\n",
    "tevas.vaikai.append(dukrele2)\n",
    "session.commit()"
   ]
  },
  {
   "cell_type": "code",
   "execution_count": 21,
   "metadata": {},
   "outputs": [
    {
     "data": {
      "text/plain": [
       "[(1, Sustras, Vyras, CodeAcademy, (1, Kietas, Vyras)),\n",
       " (6, Smagi, Vaikyte, ziburio gimnazija, (1, Kietas, Vyras))]"
      ]
     },
     "execution_count": 21,
     "metadata": {},
     "output_type": "execute_result"
    }
   ],
   "source": [
    "tevas = session.query(Tevas).get(1)\n",
    "tevas.vaikai"
   ]
  },
  {
   "cell_type": "code",
   "execution_count": 6,
   "metadata": {},
   "outputs": [
    {
     "name": "stdout",
     "output_type": "stream",
     "text": [
      "'tevas: (1, Kietas, Vyras)'\n",
      "[(1, Sustras, Vyras, CodeAcademy, (1, Kietas, Vyras)),\n",
      " (6, Smagi, Vaikyte, ziburio gimnazija, (1, Kietas, Vyras))]\n",
      "'tevas: (2, vardas, Vaikis)'\n",
      "[(2, Gudrus, Vaikis, None, (2, vardas, Vaikis)),\n",
      " (3, Smagi, Vaikyte, None, (2, vardas, Vaikis))]\n",
      "'tevas: (3, vardas, Vaikis)'\n",
      "[(4, Gudrus, Vaikis, None, (3, vardas, Vaikis)),\n",
      " (5, Smagi, Vaikyte, None, (3, vardas, Vaikis))]\n"
     ]
    }
   ],
   "source": [
    "tevai = session.query(Tevas).all()\n",
    "for tevas in  tevai:\n",
    "    pprint(f\"tevas: {tevas}\")\n",
    "    pprint(tevas.vaikai)"
   ]
  },
  {
   "cell_type": "code",
   "execution_count": 28,
   "metadata": {},
   "outputs": [
    {
     "data": {
      "text/plain": [
       "[(4, Gudrus, Vaikis, None, (3, vardas, Vaikis)),\n",
       " (5, Pamela, Vaikyte, None, (3, vardas, Vaikis))]"
      ]
     },
     "execution_count": 28,
     "metadata": {},
     "output_type": "execute_result"
    }
   ],
   "source": [
    "tevas.vaikai[1].vardas = \"Pamela\"\n",
    "tevas.vaikai"
   ]
  },
  {
   "cell_type": "code",
   "execution_count": 29,
   "metadata": {},
   "outputs": [
    {
     "data": {
      "text/plain": [
       "(5, Pamela, Vaikyte, None, None)"
      ]
     },
     "execution_count": 29,
     "metadata": {},
     "output_type": "execute_result"
    }
   ],
   "source": [
    "pamestinukas = tevas.vaikai.pop()\n",
    "pamestinukas"
   ]
  },
  {
   "cell_type": "code",
   "execution_count": null,
   "metadata": {},
   "outputs": [],
   "source": [
    "vaikai = session.query(Vaikas).all()\n",
    "vaikai"
   ]
  },
  {
   "cell_type": "code",
   "execution_count": 32,
   "metadata": {},
   "outputs": [
    {
     "data": {
      "text/plain": [
       "(3, vardas, Vaikis)"
      ]
     },
     "execution_count": 32,
     "metadata": {},
     "output_type": "execute_result"
    }
   ],
   "source": [
    "tevas"
   ]
  },
  {
   "cell_type": "code",
   "execution_count": 37,
   "metadata": {},
   "outputs": [
    {
     "data": {
      "text/plain": [
       "(3, vardas, Vaikis)"
      ]
     },
     "execution_count": 37,
     "metadata": {},
     "output_type": "execute_result"
    }
   ],
   "source": [
    "tevas"
   ]
  },
  {
   "cell_type": "code",
   "execution_count": 34,
   "metadata": {},
   "outputs": [
    {
     "data": {
      "text/plain": [
       "[(4, Gudrus, Vaikis, None, (3, vardas, Vaikis))]"
      ]
     },
     "execution_count": 34,
     "metadata": {},
     "output_type": "execute_result"
    }
   ],
   "source": [
    "tevas.vaikai"
   ]
  },
  {
   "cell_type": "code",
   "execution_count": 38,
   "metadata": {},
   "outputs": [],
   "source": [
    "tevas.vaikai.append(vaikai[3])"
   ]
  },
  {
   "cell_type": "code",
   "execution_count": 40,
   "metadata": {},
   "outputs": [
    {
     "data": {
      "text/plain": [
       "[(4, Gudrus, Vaikis, None, (3, vardas, Vaikis)),\n",
       " (4, Gudrus, Vaikis, None, (3, vardas, Vaikis))]"
      ]
     },
     "execution_count": 40,
     "metadata": {},
     "output_type": "execute_result"
    }
   ],
   "source": [
    "tevas.vaikai"
   ]
  },
  {
   "cell_type": "code",
   "execution_count": 43,
   "metadata": {},
   "outputs": [],
   "source": [
    "tevas.vaikai.remove(vaikai[3])"
   ]
  },
  {
   "cell_type": "code",
   "execution_count": 44,
   "metadata": {},
   "outputs": [
    {
     "data": {
      "text/plain": [
       "[(4, Gudrus, Vaikis, None, (3, vardas, Vaikis))]"
      ]
     },
     "execution_count": 44,
     "metadata": {},
     "output_type": "execute_result"
    }
   ],
   "source": [
    "tevas.vaikai"
   ]
  },
  {
   "cell_type": "code",
   "execution_count": null,
   "metadata": {},
   "outputs": [],
   "source": [
    "tevas.vaikai.append(vaikai[1])\n",
    "tevas.vaikai.append(vaikai[2])"
   ]
  },
  {
   "cell_type": "code",
   "execution_count": 3,
   "metadata": {},
   "outputs": [],
   "source": [
    "from crud import update_object, delete_object"
   ]
  },
  {
   "cell_type": "code",
   "execution_count": 4,
   "metadata": {},
   "outputs": [
    {
     "data": {
      "text/plain": [
       "(2, Rimtesnis, Vaikis)"
      ]
     },
     "execution_count": 4,
     "metadata": {},
     "output_type": "execute_result"
    }
   ],
   "source": [
    "update_object(Tevas, 2, vardas=\"Rimtesnis\")"
   ]
  },
  {
   "cell_type": "code",
   "execution_count": 9,
   "metadata": {},
   "outputs": [
    {
     "data": {
      "text/plain": [
       "(2, Rimtesnis, Vaikis)"
      ]
     },
     "execution_count": 9,
     "metadata": {},
     "output_type": "execute_result"
    }
   ],
   "source": [
    "tevelis = session.query(Tevas).get(2)\n",
    "tevelis"
   ]
  }
 ],
 "metadata": {
  "kernelspec": {
   "display_name": "Python 3.10.6 ('venv': venv)",
   "language": "python",
   "name": "python3"
  },
  "language_info": {
   "codemirror_mode": {
    "name": "ipython",
    "version": 3
   },
   "file_extension": ".py",
   "mimetype": "text/x-python",
   "name": "python",
   "nbconvert_exporter": "python",
   "pygments_lexer": "ipython3",
   "version": "3.10.6"
  },
  "orig_nbformat": 4,
  "vscode": {
   "interpreter": {
    "hash": "bee7209fb52da6ee2b8c711567a41acc8680d2882ca881aed24c85728738e1b5"
   }
  }
 },
 "nbformat": 4,
 "nbformat_minor": 2
}
