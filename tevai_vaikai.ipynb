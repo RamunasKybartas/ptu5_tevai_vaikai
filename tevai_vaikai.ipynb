{
 "cells": [
  {
   "cell_type": "code",
   "execution_count": 10,
   "metadata": {},
   "outputs": [],
   "source": [
    "from sqlalchemy.orm import sessionmaker\n",
    "from model import engine, Tevas, Vaikas\n",
    "\n",
    "session = sessionmaker(engine)()"
   ]
  },
  {
   "cell_type": "code",
   "execution_count": 6,
   "metadata": {},
   "outputs": [],
   "source": [
    "naujas_tevas = Tevas(vardas=\"Kietas\", pavarde=\"Vyras\")\n",
    "naujas_vaikas = Vaikas(\n",
    "    vardas=\"Sustras\",\n",
    "    pavarde=\"Vyras\",\n",
    "    tevas=naujas_tevas,\n",
    "    mokymo_istaiga = \"CodeAcademy\"\n",
    ")\n",
    "session.add(naujas_tevas)\n",
    "session.add(naujas_vaikas)\n",
    "session.commit()"
   ]
  },
  {
   "cell_type": "code",
   "execution_count": 18,
   "metadata": {},
   "outputs": [
    {
     "name": "stdout",
     "output_type": "stream",
     "text": [
      "[(1, Ivaikintas dar kart, Vaikiukas, (2, Niekam, Tikes)),\n",
      " (2, mazasis, pavardeeee, (1, Algimantas, Vertelka)),\n",
      " (3, Sustras, Vyras, (3, Kietas, Vyras)),\n",
      " (4, Sustras, Vyras, (4, Kietas, Vyras))]\n"
     ]
    }
   ],
   "source": [
    "from pprint import pprint\n",
    "vaikai = session.query(Vaikas).all()\n",
    "pprint(vaikai)"
   ]
  },
  {
   "cell_type": "code",
   "execution_count": 19,
   "metadata": {},
   "outputs": [
    {
     "data": {
      "text/plain": [
       "[(1, Ivaikintas dar kart, Vaikiukas, (2, Niekam, Tikes)),\n",
       " (2, mazasis, pavardeeee, (2, Niekam, Tikes)),\n",
       " (3, Sustras, Vyras, (3, Kietas, Vyras)),\n",
       " (4, Sustras, Vyras, (4, Kietas, Vyras))]"
      ]
     },
     "execution_count": 19,
     "metadata": {},
     "output_type": "execute_result"
    }
   ],
   "source": [
    "vaikai[1].tevas = session.query(Tevas).get(2)\n",
    "vaikai"
   ]
  },
  {
   "cell_type": "code",
   "execution_count": 23,
   "metadata": {},
   "outputs": [
    {
     "data": {
      "text/plain": [
       "(2, Niekam, Tikes)"
      ]
     },
     "execution_count": 23,
     "metadata": {},
     "output_type": "execute_result"
    }
   ],
   "source": [
    "tevas = session.query(Tevas).get(2)\n",
    "tevas"
   ]
  },
  {
   "cell_type": "code",
   "execution_count": 26,
   "metadata": {},
   "outputs": [
    {
     "ename": "AttributeError",
     "evalue": "'Tevas' object has no attribute 'vaikai'",
     "output_type": "error",
     "traceback": [
      "\u001b[1;31m---------------------------------------------------------------------------\u001b[0m",
      "\u001b[1;31mAttributeError\u001b[0m                            Traceback (most recent call last)",
      "Cell \u001b[1;32mIn [26], line 4\u001b[0m\n\u001b[0;32m      2\u001b[0m dukrele \u001b[39m=\u001b[39m Vaikas(vardas\u001b[39m=\u001b[39m\u001b[39m\"\u001b[39m\u001b[39mSmagi\u001b[39m\u001b[39m\"\u001b[39m, pavarde\u001b[39m=\u001b[39m\u001b[39m\"\u001b[39m\u001b[39mVaikyte\u001b[39m\u001b[39m\"\u001b[39m)\n\u001b[0;32m      3\u001b[0m tevas \u001b[39m=\u001b[39m Tevas(vardas\u001b[39m=\u001b[39m\u001b[39m\"\u001b[39m\u001b[39mvardas\u001b[39m\u001b[39m\"\u001b[39m, pavarde\u001b[39m=\u001b[39m\u001b[39m\"\u001b[39m\u001b[39mVaikis\u001b[39m\u001b[39m\"\u001b[39m)\n\u001b[1;32m----> 4\u001b[0m tevas\u001b[39m.\u001b[39;49mvaikai\u001b[39m.\u001b[39mappend(sunelis)\n\u001b[0;32m      5\u001b[0m tevas\u001b[39m.\u001b[39mvaikai\u001b[39m.\u001b[39mappend(dukrele)\n\u001b[0;32m      6\u001b[0m session\u001b[39m.\u001b[39madd(tevas)\n",
      "\u001b[1;31mAttributeError\u001b[0m: 'Tevas' object has no attribute 'vaikai'"
     ]
    }
   ],
   "source": [
    "sunelis = Vaikas(vardas=\"Gudrus\", pavarde=\"Vaikis\")\n",
    "dukrele = Vaikas(vardas=\"Smagi\", pavarde=\"Vaikyte\")\n",
    "tevas = Tevas(vardas=\"vardas\", pavarde=\"Vaikis\")\n",
    "tevas.vaikai.append(sunelis)\n",
    "tevas.vaikai.append(dukrele)\n",
    "session.add(tevas)\n",
    "session.commit()"
   ]
  }
 ],
 "metadata": {
  "kernelspec": {
   "display_name": "Python 3.10.6 ('venv': venv)",
   "language": "python",
   "name": "python3"
  },
  "language_info": {
   "codemirror_mode": {
    "name": "ipython",
    "version": 3
   },
   "file_extension": ".py",
   "mimetype": "text/x-python",
   "name": "python",
   "nbconvert_exporter": "python",
   "pygments_lexer": "ipython3",
   "version": "3.10.6"
  },
  "orig_nbformat": 4,
  "vscode": {
   "interpreter": {
    "hash": "bee7209fb52da6ee2b8c711567a41acc8680d2882ca881aed24c85728738e1b5"
   }
  }
 },
 "nbformat": 4,
 "nbformat_minor": 2
}
